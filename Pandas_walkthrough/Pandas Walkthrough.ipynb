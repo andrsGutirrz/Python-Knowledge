{
 "cells": [
  {
   "cell_type": "markdown",
   "metadata": {},
   "source": [
    "# Pandas Walkthrough"
   ]
  },
  {
   "cell_type": "code",
   "execution_count": 1,
   "metadata": {},
   "outputs": [],
   "source": [
    "# We need to import Pandas & Numpy\n",
    "import pandas as pd # pd is the alias\n",
    "import numpy as np #np is the alias"
   ]
  },
  {
   "cell_type": "markdown",
   "metadata": {},
   "source": [
    "### Basic forms -> Serie & Dataframe"
   ]
  },
  {
   "cell_type": "code",
   "execution_count": 2,
   "metadata": {},
   "outputs": [
    {
     "data": {
      "text/plain": [
       "a    0.968640\n",
       "b   -0.677502\n",
       "c   -1.236578\n",
       "d   -2.246368\n",
       "e    1.570538\n",
       "dtype: float64"
      ]
     },
     "execution_count": 2,
     "metadata": {},
     "output_type": "execute_result"
    }
   ],
   "source": [
    "my_serie = pd.Series(np.random.randn(5), index=['a', 'b', 'c', 'd', 'e'])\n",
    "my_serie"
   ]
  },
  {
   "cell_type": "code",
   "execution_count": 3,
   "metadata": {},
   "outputs": [
    {
     "data": {
      "text/html": [
       "<div>\n",
       "<style scoped>\n",
       "    .dataframe tbody tr th:only-of-type {\n",
       "        vertical-align: middle;\n",
       "    }\n",
       "\n",
       "    .dataframe tbody tr th {\n",
       "        vertical-align: top;\n",
       "    }\n",
       "\n",
       "    .dataframe thead th {\n",
       "        text-align: right;\n",
       "    }\n",
       "</style>\n",
       "<table border=\"1\" class=\"dataframe\">\n",
       "  <thead>\n",
       "    <tr style=\"text-align: right;\">\n",
       "      <th></th>\n",
       "      <th>Name</th>\n",
       "      <th>Lastname</th>\n",
       "      <th>Age</th>\n",
       "    </tr>\n",
       "  </thead>\n",
       "  <tbody>\n",
       "    <tr>\n",
       "      <th>0</th>\n",
       "      <td>Andres</td>\n",
       "      <td>Gutierrez</td>\n",
       "      <td>23</td>\n",
       "    </tr>\n",
       "    <tr>\n",
       "      <th>1</th>\n",
       "      <td>Melissa</td>\n",
       "      <td>Cardenas</td>\n",
       "      <td>22</td>\n",
       "    </tr>\n",
       "    <tr>\n",
       "      <th>2</th>\n",
       "      <td>Freddy</td>\n",
       "      <td>Vega</td>\n",
       "      <td>35</td>\n",
       "    </tr>\n",
       "  </tbody>\n",
       "</table>\n",
       "</div>"
      ],
      "text/plain": [
       "      Name   Lastname  Age\n",
       "0   Andres  Gutierrez   23\n",
       "1  Melissa   Cardenas   22\n",
       "2   Freddy       Vega   35"
      ]
     },
     "metadata": {},
     "output_type": "display_data"
    }
   ],
   "source": [
    "my_dataframe = pd.DataFrame({\n",
    "    'Name': ['Andres', 'Melissa', 'Freddy'],\n",
    "    'Lastname': ['Gutierrez', 'Cardenas', 'Vega'],\n",
    "    'Age': [23, 22, 35],\n",
    "})\n",
    "display(my_dataframe)"
   ]
  },
  {
   "cell_type": "code",
   "execution_count": 4,
   "metadata": {
    "scrolled": true
   },
   "outputs": [
    {
     "data": {
      "text/plain": [
       "0     Andres\n",
       "1    Melissa\n",
       "2     Freddy\n",
       "Name: Name, dtype: object"
      ]
     },
     "execution_count": 4,
     "metadata": {},
     "output_type": "execute_result"
    }
   ],
   "source": [
    "my_dataframe['Name']"
   ]
  },
  {
   "cell_type": "code",
   "execution_count": 5,
   "metadata": {},
   "outputs": [
    {
     "data": {
      "text/plain": [
       "0     Andres\n",
       "1    Melissa\n",
       "2     Freddy\n",
       "Name: Name, dtype: object"
      ]
     },
     "execution_count": 5,
     "metadata": {},
     "output_type": "execute_result"
    }
   ],
   "source": [
    "my_dataframe.Name # danger!"
   ]
  },
  {
   "cell_type": "markdown",
   "metadata": {},
   "source": [
    "#### Simple query"
   ]
  },
  {
   "cell_type": "code",
   "execution_count": 6,
   "metadata": {},
   "outputs": [
    {
     "data": {
      "text/html": [
       "<div>\n",
       "<style scoped>\n",
       "    .dataframe tbody tr th:only-of-type {\n",
       "        vertical-align: middle;\n",
       "    }\n",
       "\n",
       "    .dataframe tbody tr th {\n",
       "        vertical-align: top;\n",
       "    }\n",
       "\n",
       "    .dataframe thead th {\n",
       "        text-align: right;\n",
       "    }\n",
       "</style>\n",
       "<table border=\"1\" class=\"dataframe\">\n",
       "  <thead>\n",
       "    <tr style=\"text-align: right;\">\n",
       "      <th></th>\n",
       "      <th>Name</th>\n",
       "      <th>Lastname</th>\n",
       "      <th>Age</th>\n",
       "    </tr>\n",
       "  </thead>\n",
       "  <tbody>\n",
       "    <tr>\n",
       "      <th>0</th>\n",
       "      <td>Andres</td>\n",
       "      <td>Gutierrez</td>\n",
       "      <td>23</td>\n",
       "    </tr>\n",
       "  </tbody>\n",
       "</table>\n",
       "</div>"
      ],
      "text/plain": [
       "     Name   Lastname  Age\n",
       "0  Andres  Gutierrez   23"
      ]
     },
     "execution_count": 6,
     "metadata": {},
     "output_type": "execute_result"
    }
   ],
   "source": [
    "my_dataframe[my_dataframe['Name'] == 'Andres']"
   ]
  },
  {
   "cell_type": "code",
   "execution_count": 7,
   "metadata": {},
   "outputs": [],
   "source": [
    "mask = [True, False, False]"
   ]
  },
  {
   "cell_type": "code",
   "execution_count": 8,
   "metadata": {},
   "outputs": [
    {
     "data": {
      "text/html": [
       "<div>\n",
       "<style scoped>\n",
       "    .dataframe tbody tr th:only-of-type {\n",
       "        vertical-align: middle;\n",
       "    }\n",
       "\n",
       "    .dataframe tbody tr th {\n",
       "        vertical-align: top;\n",
       "    }\n",
       "\n",
       "    .dataframe thead th {\n",
       "        text-align: right;\n",
       "    }\n",
       "</style>\n",
       "<table border=\"1\" class=\"dataframe\">\n",
       "  <thead>\n",
       "    <tr style=\"text-align: right;\">\n",
       "      <th></th>\n",
       "      <th>Name</th>\n",
       "      <th>Lastname</th>\n",
       "      <th>Age</th>\n",
       "    </tr>\n",
       "  </thead>\n",
       "  <tbody>\n",
       "    <tr>\n",
       "      <th>0</th>\n",
       "      <td>Andres</td>\n",
       "      <td>Gutierrez</td>\n",
       "      <td>23</td>\n",
       "    </tr>\n",
       "  </tbody>\n",
       "</table>\n",
       "</div>"
      ],
      "text/plain": [
       "     Name   Lastname  Age\n",
       "0  Andres  Gutierrez   23"
      ]
     },
     "execution_count": 8,
     "metadata": {},
     "output_type": "execute_result"
    }
   ],
   "source": [
    "my_dataframe[mask]"
   ]
  },
  {
   "cell_type": "markdown",
   "metadata": {},
   "source": [
    "### Read external file"
   ]
  },
  {
   "cell_type": "code",
   "execution_count": 9,
   "metadata": {},
   "outputs": [
    {
     "data": {
      "text/html": [
       "<div>\n",
       "<style scoped>\n",
       "    .dataframe tbody tr th:only-of-type {\n",
       "        vertical-align: middle;\n",
       "    }\n",
       "\n",
       "    .dataframe tbody tr th {\n",
       "        vertical-align: top;\n",
       "    }\n",
       "\n",
       "    .dataframe thead th {\n",
       "        text-align: right;\n",
       "    }\n",
       "</style>\n",
       "<table border=\"1\" class=\"dataframe\">\n",
       "  <thead>\n",
       "    <tr style=\"text-align: right;\">\n",
       "      <th></th>\n",
       "      <th>#</th>\n",
       "      <th>Name</th>\n",
       "      <th>Type</th>\n",
       "      <th>Total</th>\n",
       "      <th>HP</th>\n",
       "      <th>Attack</th>\n",
       "      <th>Defense</th>\n",
       "      <th>Special Attack</th>\n",
       "      <th>Special Defense</th>\n",
       "      <th>Speed</th>\n",
       "    </tr>\n",
       "  </thead>\n",
       "  <tbody>\n",
       "    <tr>\n",
       "      <th>0</th>\n",
       "      <td>001</td>\n",
       "      <td>Bulbasaur</td>\n",
       "      <td>GRASS</td>\n",
       "      <td>318</td>\n",
       "      <td>45</td>\n",
       "      <td>49</td>\n",
       "      <td>49</td>\n",
       "      <td>65</td>\n",
       "      <td>65</td>\n",
       "      <td>45</td>\n",
       "    </tr>\n",
       "    <tr>\n",
       "      <th>1</th>\n",
       "      <td>001</td>\n",
       "      <td>Bulbasaur</td>\n",
       "      <td>POISON</td>\n",
       "      <td>318</td>\n",
       "      <td>45</td>\n",
       "      <td>49</td>\n",
       "      <td>49</td>\n",
       "      <td>65</td>\n",
       "      <td>65</td>\n",
       "      <td>45</td>\n",
       "    </tr>\n",
       "    <tr>\n",
       "      <th>2</th>\n",
       "      <td>002</td>\n",
       "      <td>Ivysaur</td>\n",
       "      <td>GRASS</td>\n",
       "      <td>405</td>\n",
       "      <td>60</td>\n",
       "      <td>62</td>\n",
       "      <td>63</td>\n",
       "      <td>80</td>\n",
       "      <td>80</td>\n",
       "      <td>60</td>\n",
       "    </tr>\n",
       "    <tr>\n",
       "      <th>3</th>\n",
       "      <td>002</td>\n",
       "      <td>Ivysaur</td>\n",
       "      <td>POISON</td>\n",
       "      <td>405</td>\n",
       "      <td>60</td>\n",
       "      <td>62</td>\n",
       "      <td>63</td>\n",
       "      <td>80</td>\n",
       "      <td>80</td>\n",
       "      <td>60</td>\n",
       "    </tr>\n",
       "    <tr>\n",
       "      <th>4</th>\n",
       "      <td>003</td>\n",
       "      <td>Venusaur</td>\n",
       "      <td>GRASS</td>\n",
       "      <td>525</td>\n",
       "      <td>80</td>\n",
       "      <td>82</td>\n",
       "      <td>83</td>\n",
       "      <td>100</td>\n",
       "      <td>100</td>\n",
       "      <td>80</td>\n",
       "    </tr>\n",
       "  </tbody>\n",
       "</table>\n",
       "</div>"
      ],
      "text/plain": [
       "      #       Name    Type  Total  HP  Attack  Defense  Special Attack  \\\n",
       "0   001  Bulbasaur   GRASS    318  45      49       49              65   \n",
       "1   001  Bulbasaur  POISON    318  45      49       49              65   \n",
       "2   002    Ivysaur   GRASS    405  60      62       63              80   \n",
       "3   002    Ivysaur  POISON    405  60      62       63              80   \n",
       "4   003   Venusaur   GRASS    525  80      82       83             100   \n",
       "\n",
       "   Special Defense  Speed  \n",
       "0               65     45  \n",
       "1               65     45  \n",
       "2               80     60  \n",
       "3               80     60  \n",
       "4              100     80  "
      ]
     },
     "execution_count": 9,
     "metadata": {},
     "output_type": "execute_result"
    }
   ],
   "source": [
    "pokemon = pd.read_excel('pokemon.xlsx', sheet_name='Pokemon')\n",
    "pokemon.head()"
   ]
  },
  {
   "cell_type": "code",
   "execution_count": 10,
   "metadata": {},
   "outputs": [
    {
     "data": {
      "text/html": [
       "<div>\n",
       "<style scoped>\n",
       "    .dataframe tbody tr th:only-of-type {\n",
       "        vertical-align: middle;\n",
       "    }\n",
       "\n",
       "    .dataframe tbody tr th {\n",
       "        vertical-align: top;\n",
       "    }\n",
       "\n",
       "    .dataframe thead th {\n",
       "        text-align: right;\n",
       "    }\n",
       "</style>\n",
       "<table border=\"1\" class=\"dataframe\">\n",
       "  <thead>\n",
       "    <tr style=\"text-align: right;\">\n",
       "      <th></th>\n",
       "      <th>Name</th>\n",
       "      <th>Type</th>\n",
       "      <th>Cat.</th>\n",
       "      <th>Power</th>\n",
       "      <th>Acc.</th>\n",
       "      <th>PP</th>\n",
       "      <th>TM</th>\n",
       "      <th>Effect</th>\n",
       "      <th>Prob. (%)</th>\n",
       "    </tr>\n",
       "  </thead>\n",
       "  <tbody>\n",
       "    <tr>\n",
       "      <th>0</th>\n",
       "      <td>Absorb</td>\n",
       "      <td>GRASS</td>\n",
       "      <td>Special</td>\n",
       "      <td>20.0</td>\n",
       "      <td>100</td>\n",
       "      <td>25.0</td>\n",
       "      <td>NaN</td>\n",
       "      <td>User recovers half the HP inflicted on opponent.</td>\n",
       "      <td>NaN</td>\n",
       "    </tr>\n",
       "    <tr>\n",
       "      <th>1</th>\n",
       "      <td>Acid</td>\n",
       "      <td>POISON</td>\n",
       "      <td>Special</td>\n",
       "      <td>40.0</td>\n",
       "      <td>100</td>\n",
       "      <td>30.0</td>\n",
       "      <td>NaN</td>\n",
       "      <td>May lower opponent's Special Defense.</td>\n",
       "      <td>10.0</td>\n",
       "    </tr>\n",
       "    <tr>\n",
       "      <th>2</th>\n",
       "      <td>Acid Armor</td>\n",
       "      <td>POISON</td>\n",
       "      <td>Status</td>\n",
       "      <td>NaN</td>\n",
       "      <td>NaN</td>\n",
       "      <td>40.0</td>\n",
       "      <td>NaN</td>\n",
       "      <td>Sharply raises user's Defense.</td>\n",
       "      <td>NaN</td>\n",
       "    </tr>\n",
       "    <tr>\n",
       "      <th>3</th>\n",
       "      <td>Acid Spray</td>\n",
       "      <td>POISON</td>\n",
       "      <td>Special</td>\n",
       "      <td>40.0</td>\n",
       "      <td>100</td>\n",
       "      <td>20.0</td>\n",
       "      <td>NaN</td>\n",
       "      <td>Sharply lowers opponent's Special Defense.</td>\n",
       "      <td>100.0</td>\n",
       "    </tr>\n",
       "    <tr>\n",
       "      <th>4</th>\n",
       "      <td>Acrobatics</td>\n",
       "      <td>FLYING</td>\n",
       "      <td>Physical</td>\n",
       "      <td>55.0</td>\n",
       "      <td>100</td>\n",
       "      <td>15.0</td>\n",
       "      <td>TM62</td>\n",
       "      <td>Stronger when the user does not have a held item.</td>\n",
       "      <td>NaN</td>\n",
       "    </tr>\n",
       "  </tbody>\n",
       "</table>\n",
       "</div>"
      ],
      "text/plain": [
       "         Name    Type      Cat.  Power Acc.    PP    TM  \\\n",
       "0      Absorb   GRASS   Special   20.0  100  25.0   NaN   \n",
       "1        Acid  POISON   Special   40.0  100  30.0   NaN   \n",
       "2  Acid Armor  POISON    Status    NaN  NaN  40.0   NaN   \n",
       "3  Acid Spray  POISON   Special   40.0  100  20.0   NaN   \n",
       "4  Acrobatics  FLYING  Physical   55.0  100  15.0  TM62   \n",
       "\n",
       "                                              Effect  Prob. (%)  \n",
       "0   User recovers half the HP inflicted on opponent.        NaN  \n",
       "1              May lower opponent's Special Defense.       10.0  \n",
       "2                     Sharply raises user's Defense.        NaN  \n",
       "3         Sharply lowers opponent's Special Defense.      100.0  \n",
       "4  Stronger when the user does not have a held item.        NaN  "
      ]
     },
     "execution_count": 10,
     "metadata": {},
     "output_type": "execute_result"
    }
   ],
   "source": [
    "pokemon_moves = pd.read_excel('pokemon.xlsx', sheet_name='Moves')\n",
    "pokemon_moves.head()"
   ]
  },
  {
   "cell_type": "code",
   "execution_count": 11,
   "metadata": {},
   "outputs": [
    {
     "data": {
      "text/html": [
       "<div>\n",
       "<style scoped>\n",
       "    .dataframe tbody tr th:only-of-type {\n",
       "        vertical-align: middle;\n",
       "    }\n",
       "\n",
       "    .dataframe tbody tr th {\n",
       "        vertical-align: top;\n",
       "    }\n",
       "\n",
       "    .dataframe thead th {\n",
       "        text-align: right;\n",
       "    }\n",
       "</style>\n",
       "<table border=\"1\" class=\"dataframe\">\n",
       "  <thead>\n",
       "    <tr style=\"text-align: right;\">\n",
       "      <th></th>\n",
       "      <th>Evolving from</th>\n",
       "      <th>Evolving to</th>\n",
       "      <th>Level</th>\n",
       "      <th>Condition</th>\n",
       "      <th>Evolution Type</th>\n",
       "    </tr>\n",
       "  </thead>\n",
       "  <tbody>\n",
       "    <tr>\n",
       "      <th>0</th>\n",
       "      <td>Bulbasaur</td>\n",
       "      <td>Ivysaur</td>\n",
       "      <td>16.0</td>\n",
       "      <td>NaN</td>\n",
       "      <td>Level</td>\n",
       "    </tr>\n",
       "    <tr>\n",
       "      <th>1</th>\n",
       "      <td>Ivysaur</td>\n",
       "      <td>Venusaur</td>\n",
       "      <td>32.0</td>\n",
       "      <td>NaN</td>\n",
       "      <td>Level</td>\n",
       "    </tr>\n",
       "    <tr>\n",
       "      <th>2</th>\n",
       "      <td>Charmander</td>\n",
       "      <td>Charmeleon</td>\n",
       "      <td>16.0</td>\n",
       "      <td>NaN</td>\n",
       "      <td>Level</td>\n",
       "    </tr>\n",
       "    <tr>\n",
       "      <th>3</th>\n",
       "      <td>Charmeleon</td>\n",
       "      <td>Charizard</td>\n",
       "      <td>36.0</td>\n",
       "      <td>NaN</td>\n",
       "      <td>Level</td>\n",
       "    </tr>\n",
       "    <tr>\n",
       "      <th>4</th>\n",
       "      <td>Squirtle</td>\n",
       "      <td>Wartortle</td>\n",
       "      <td>16.0</td>\n",
       "      <td>NaN</td>\n",
       "      <td>Level</td>\n",
       "    </tr>\n",
       "  </tbody>\n",
       "</table>\n",
       "</div>"
      ],
      "text/plain": [
       "  Evolving from Evolving to  Level Condition Evolution Type\n",
       "0     Bulbasaur     Ivysaur   16.0       NaN          Level\n",
       "1       Ivysaur    Venusaur   32.0       NaN          Level\n",
       "2    Charmander  Charmeleon   16.0       NaN          Level\n",
       "3    Charmeleon   Charizard   36.0       NaN          Level\n",
       "4      Squirtle   Wartortle   16.0       NaN          Level"
      ]
     },
     "execution_count": 11,
     "metadata": {},
     "output_type": "execute_result"
    }
   ],
   "source": [
    "pokemon_evolution = pd.read_excel('pokemon.xlsx', sheet_name='Evolution')\n",
    "pokemon_evolution.head()"
   ]
  },
  {
   "cell_type": "markdown",
   "metadata": {},
   "source": [
    "## Applying merge"
   ]
  },
  {
   "cell_type": "code",
   "execution_count": 12,
   "metadata": {},
   "outputs": [
    {
     "data": {
      "text/html": [
       "<div>\n",
       "<style scoped>\n",
       "    .dataframe tbody tr th:only-of-type {\n",
       "        vertical-align: middle;\n",
       "    }\n",
       "\n",
       "    .dataframe tbody tr th {\n",
       "        vertical-align: top;\n",
       "    }\n",
       "\n",
       "    .dataframe thead th {\n",
       "        text-align: right;\n",
       "    }\n",
       "</style>\n",
       "<table border=\"1\" class=\"dataframe\">\n",
       "  <thead>\n",
       "    <tr style=\"text-align: right;\">\n",
       "      <th></th>\n",
       "      <th>#</th>\n",
       "      <th>Name</th>\n",
       "      <th>Type</th>\n",
       "      <th>Total</th>\n",
       "      <th>HP</th>\n",
       "      <th>Attack</th>\n",
       "      <th>Defense</th>\n",
       "      <th>Special Attack</th>\n",
       "      <th>Special Defense</th>\n",
       "      <th>Speed</th>\n",
       "      <th>Evolving from</th>\n",
       "      <th>Evolving to</th>\n",
       "      <th>Level</th>\n",
       "      <th>Condition</th>\n",
       "      <th>Evolution Type</th>\n",
       "    </tr>\n",
       "  </thead>\n",
       "  <tbody>\n",
       "    <tr>\n",
       "      <th>0</th>\n",
       "      <td>001</td>\n",
       "      <td>Bulbasaur</td>\n",
       "      <td>GRASS</td>\n",
       "      <td>318</td>\n",
       "      <td>45</td>\n",
       "      <td>49</td>\n",
       "      <td>49</td>\n",
       "      <td>65</td>\n",
       "      <td>65</td>\n",
       "      <td>45</td>\n",
       "      <td>Bulbasaur</td>\n",
       "      <td>Ivysaur</td>\n",
       "      <td>16.0</td>\n",
       "      <td>NaN</td>\n",
       "      <td>Level</td>\n",
       "    </tr>\n",
       "    <tr>\n",
       "      <th>1</th>\n",
       "      <td>001</td>\n",
       "      <td>Bulbasaur</td>\n",
       "      <td>POISON</td>\n",
       "      <td>318</td>\n",
       "      <td>45</td>\n",
       "      <td>49</td>\n",
       "      <td>49</td>\n",
       "      <td>65</td>\n",
       "      <td>65</td>\n",
       "      <td>45</td>\n",
       "      <td>Bulbasaur</td>\n",
       "      <td>Ivysaur</td>\n",
       "      <td>16.0</td>\n",
       "      <td>NaN</td>\n",
       "      <td>Level</td>\n",
       "    </tr>\n",
       "    <tr>\n",
       "      <th>2</th>\n",
       "      <td>002</td>\n",
       "      <td>Ivysaur</td>\n",
       "      <td>GRASS</td>\n",
       "      <td>405</td>\n",
       "      <td>60</td>\n",
       "      <td>62</td>\n",
       "      <td>63</td>\n",
       "      <td>80</td>\n",
       "      <td>80</td>\n",
       "      <td>60</td>\n",
       "      <td>Ivysaur</td>\n",
       "      <td>Venusaur</td>\n",
       "      <td>32.0</td>\n",
       "      <td>NaN</td>\n",
       "      <td>Level</td>\n",
       "    </tr>\n",
       "    <tr>\n",
       "      <th>3</th>\n",
       "      <td>002</td>\n",
       "      <td>Ivysaur</td>\n",
       "      <td>POISON</td>\n",
       "      <td>405</td>\n",
       "      <td>60</td>\n",
       "      <td>62</td>\n",
       "      <td>63</td>\n",
       "      <td>80</td>\n",
       "      <td>80</td>\n",
       "      <td>60</td>\n",
       "      <td>Ivysaur</td>\n",
       "      <td>Venusaur</td>\n",
       "      <td>32.0</td>\n",
       "      <td>NaN</td>\n",
       "      <td>Level</td>\n",
       "    </tr>\n",
       "    <tr>\n",
       "      <th>4</th>\n",
       "      <td>004</td>\n",
       "      <td>Charmander</td>\n",
       "      <td>FIRE</td>\n",
       "      <td>309</td>\n",
       "      <td>39</td>\n",
       "      <td>52</td>\n",
       "      <td>43</td>\n",
       "      <td>60</td>\n",
       "      <td>50</td>\n",
       "      <td>65</td>\n",
       "      <td>Charmander</td>\n",
       "      <td>Charmeleon</td>\n",
       "      <td>16.0</td>\n",
       "      <td>NaN</td>\n",
       "      <td>Level</td>\n",
       "    </tr>\n",
       "  </tbody>\n",
       "</table>\n",
       "</div>"
      ],
      "text/plain": [
       "      #        Name    Type  Total  HP  Attack  Defense  Special Attack  \\\n",
       "0   001   Bulbasaur   GRASS    318  45      49       49              65   \n",
       "1   001   Bulbasaur  POISON    318  45      49       49              65   \n",
       "2   002     Ivysaur   GRASS    405  60      62       63              80   \n",
       "3   002     Ivysaur  POISON    405  60      62       63              80   \n",
       "4   004  Charmander    FIRE    309  39      52       43              60   \n",
       "\n",
       "   Special Defense  Speed Evolving from Evolving to  Level Condition  \\\n",
       "0               65     45     Bulbasaur     Ivysaur   16.0       NaN   \n",
       "1               65     45     Bulbasaur     Ivysaur   16.0       NaN   \n",
       "2               80     60       Ivysaur    Venusaur   32.0       NaN   \n",
       "3               80     60       Ivysaur    Venusaur   32.0       NaN   \n",
       "4               50     65    Charmander  Charmeleon   16.0       NaN   \n",
       "\n",
       "  Evolution Type  \n",
       "0          Level  \n",
       "1          Level  \n",
       "2          Level  \n",
       "3          Level  \n",
       "4          Level  "
      ]
     },
     "execution_count": 12,
     "metadata": {},
     "output_type": "execute_result"
    }
   ],
   "source": [
    "merged_pokemon = pokemon.merge(pokemon_evolution, left_on=['Name'], right_on=['Evolving from'])\n",
    "merged_pokemon.head()"
   ]
  },
  {
   "cell_type": "markdown",
   "metadata": {},
   "source": [
    "## Get all types by Pokemon"
   ]
  },
  {
   "cell_type": "code",
   "execution_count": 13,
   "metadata": {},
   "outputs": [
    {
     "data": {
      "text/plain": [
       "0     GRASS\n",
       "1    POISON\n",
       "Name: Type, dtype: object"
      ]
     },
     "execution_count": 13,
     "metadata": {},
     "output_type": "execute_result"
    }
   ],
   "source": [
    "merged_pokemon[merged_pokemon['Name']=='Bulbasaur']['Type']"
   ]
  },
  {
   "cell_type": "code",
   "execution_count": 14,
   "metadata": {},
   "outputs": [],
   "source": [
    "merged_pokemon.groupby(by=['Name']).mean();"
   ]
  },
  {
   "cell_type": "markdown",
   "metadata": {},
   "source": [
    "# BANK ANALYSIS"
   ]
  },
  {
   "cell_type": "code",
   "execution_count": 15,
   "metadata": {},
   "outputs": [
    {
     "data": {
      "text/html": [
       "<div>\n",
       "<style scoped>\n",
       "    .dataframe tbody tr th:only-of-type {\n",
       "        vertical-align: middle;\n",
       "    }\n",
       "\n",
       "    .dataframe tbody tr th {\n",
       "        vertical-align: top;\n",
       "    }\n",
       "\n",
       "    .dataframe thead th {\n",
       "        text-align: right;\n",
       "    }\n",
       "</style>\n",
       "<table border=\"1\" class=\"dataframe\">\n",
       "  <thead>\n",
       "    <tr style=\"text-align: right;\">\n",
       "      <th></th>\n",
       "      <th>Date</th>\n",
       "      <th>Code</th>\n",
       "      <th>Description</th>\n",
       "      <th>Unnamed: 3</th>\n",
       "      <th>Debits</th>\n",
       "      <th>Credits</th>\n",
       "      <th>Balance</th>\n",
       "    </tr>\n",
       "  </thead>\n",
       "  <tbody>\n",
       "    <tr>\n",
       "      <th>0</th>\n",
       "      <td>20/01/2019</td>\n",
       "      <td>CP</td>\n",
       "      <td>GROCERY STORE 1</td>\n",
       "      <td>NaN</td>\n",
       "      <td>1.39</td>\n",
       "      <td>0.0</td>\n",
       "      <td>13.61</td>\n",
       "    </tr>\n",
       "    <tr>\n",
       "      <th>1</th>\n",
       "      <td>20/01/2019</td>\n",
       "      <td>CP</td>\n",
       "      <td>GROCERY STORE 1</td>\n",
       "      <td>NaN</td>\n",
       "      <td>3.16</td>\n",
       "      <td>0.0</td>\n",
       "      <td>10.45</td>\n",
       "    </tr>\n",
       "    <tr>\n",
       "      <th>2</th>\n",
       "      <td>24/01/2019</td>\n",
       "      <td>CP</td>\n",
       "      <td>LOS PALETEROS</td>\n",
       "      <td>NaN</td>\n",
       "      <td>9.32</td>\n",
       "      <td>0.0</td>\n",
       "      <td>1.13</td>\n",
       "    </tr>\n",
       "  </tbody>\n",
       "</table>\n",
       "</div>"
      ],
      "text/plain": [
       "         Date Code      Description  Unnamed: 3  Debits  Credits  Balance\n",
       "0  20/01/2019   CP  GROCERY STORE 1         NaN    1.39      0.0    13.61\n",
       "1  20/01/2019   CP  GROCERY STORE 1         NaN    3.16      0.0    10.45\n",
       "2  24/01/2019   CP    LOS PALETEROS         NaN    9.32      0.0     1.13"
      ]
     },
     "metadata": {},
     "output_type": "display_data"
    },
    {
     "data": {
      "text/html": [
       "<div>\n",
       "<style scoped>\n",
       "    .dataframe tbody tr th:only-of-type {\n",
       "        vertical-align: middle;\n",
       "    }\n",
       "\n",
       "    .dataframe tbody tr th {\n",
       "        vertical-align: top;\n",
       "    }\n",
       "\n",
       "    .dataframe thead th {\n",
       "        text-align: right;\n",
       "    }\n",
       "</style>\n",
       "<table border=\"1\" class=\"dataframe\">\n",
       "  <thead>\n",
       "    <tr style=\"text-align: right;\">\n",
       "      <th></th>\n",
       "      <th>Date</th>\n",
       "      <th>Code</th>\n",
       "      <th>Description</th>\n",
       "      <th>Unnamed: 3</th>\n",
       "      <th>Debits</th>\n",
       "      <th>Credits</th>\n",
       "      <th>Balance</th>\n",
       "    </tr>\n",
       "  </thead>\n",
       "  <tbody>\n",
       "    <tr>\n",
       "      <th>430</th>\n",
       "      <td>15/10/2019</td>\n",
       "      <td>TF</td>\n",
       "      <td>TEF A : 934820192</td>\n",
       "      <td>NaN</td>\n",
       "      <td>12.26</td>\n",
       "      <td>0.0</td>\n",
       "      <td>151.10</td>\n",
       "    </tr>\n",
       "    <tr>\n",
       "      <th>431</th>\n",
       "      <td>16/10/2019</td>\n",
       "      <td>TF</td>\n",
       "      <td>TEF A : 938555331</td>\n",
       "      <td>NaN</td>\n",
       "      <td>400.00</td>\n",
       "      <td>0.0</td>\n",
       "      <td>500.07</td>\n",
       "    </tr>\n",
       "    <tr>\n",
       "      <th>432</th>\n",
       "      <td>16/10/2019</td>\n",
       "      <td>MD</td>\n",
       "      <td>DTR:CLUB_SUELDO-_ANDRES_GUTIER</td>\n",
       "      <td>NaN</td>\n",
       "      <td>375.00</td>\n",
       "      <td>0.0</td>\n",
       "      <td>125.07</td>\n",
       "    </tr>\n",
       "  </tbody>\n",
       "</table>\n",
       "</div>"
      ],
      "text/plain": [
       "           Date Code                     Description  Unnamed: 3  Debits  \\\n",
       "430  15/10/2019   TF               TEF A : 934820192         NaN   12.26   \n",
       "431  16/10/2019   TF               TEF A : 938555331         NaN  400.00   \n",
       "432  16/10/2019   MD  DTR:CLUB_SUELDO-_ANDRES_GUTIER         NaN  375.00   \n",
       "\n",
       "     Credits  Balance  \n",
       "430      0.0   151.10  \n",
       "431      0.0   500.07  \n",
       "432      0.0   125.07  "
      ]
     },
     "metadata": {},
     "output_type": "display_data"
    }
   ],
   "source": [
    "my_bank = pd.read_excel('transactions.xls')\n",
    "display(my_bank.head(3))\n",
    "display(my_bank.tail(3))"
   ]
  },
  {
   "cell_type": "code",
   "execution_count": 16,
   "metadata": {},
   "outputs": [],
   "source": [
    "#my_bank.columns.tolist()\n",
    "my_bank = my_bank.drop(['Unnamed: 3'], axis=1)\n",
    "#my_bank.drop(['Unnamed: 3'], axis=1, inplace=True)"
   ]
  },
  {
   "cell_type": "code",
   "execution_count": 17,
   "metadata": {},
   "outputs": [
    {
     "data": {
      "text/html": [
       "<div>\n",
       "<style scoped>\n",
       "    .dataframe tbody tr th:only-of-type {\n",
       "        vertical-align: middle;\n",
       "    }\n",
       "\n",
       "    .dataframe tbody tr th {\n",
       "        vertical-align: top;\n",
       "    }\n",
       "\n",
       "    .dataframe thead th {\n",
       "        text-align: right;\n",
       "    }\n",
       "</style>\n",
       "<table border=\"1\" class=\"dataframe\">\n",
       "  <thead>\n",
       "    <tr style=\"text-align: right;\">\n",
       "      <th></th>\n",
       "      <th>Date</th>\n",
       "      <th>Code</th>\n",
       "      <th>Description</th>\n",
       "      <th>Debits</th>\n",
       "      <th>Credits</th>\n",
       "      <th>Balance</th>\n",
       "    </tr>\n",
       "  </thead>\n",
       "  <tbody>\n",
       "    <tr>\n",
       "      <th>0</th>\n",
       "      <td>20/01/2019</td>\n",
       "      <td>CP</td>\n",
       "      <td>GROCERY STORE 1</td>\n",
       "      <td>1.39</td>\n",
       "      <td>0.00</td>\n",
       "      <td>13.61</td>\n",
       "    </tr>\n",
       "    <tr>\n",
       "      <th>1</th>\n",
       "      <td>20/01/2019</td>\n",
       "      <td>CP</td>\n",
       "      <td>GROCERY STORE 1</td>\n",
       "      <td>3.16</td>\n",
       "      <td>0.00</td>\n",
       "      <td>10.45</td>\n",
       "    </tr>\n",
       "    <tr>\n",
       "      <th>2</th>\n",
       "      <td>24/01/2019</td>\n",
       "      <td>CP</td>\n",
       "      <td>LOS PALETEROS</td>\n",
       "      <td>9.32</td>\n",
       "      <td>0.00</td>\n",
       "      <td>1.13</td>\n",
       "    </tr>\n",
       "    <tr>\n",
       "      <th>3</th>\n",
       "      <td>24/01/2019</td>\n",
       "      <td>MC</td>\n",
       "      <td>TFT DE Gutierrez_Arcia_Andr</td>\n",
       "      <td>0.00</td>\n",
       "      <td>50.00</td>\n",
       "      <td>51.13</td>\n",
       "    </tr>\n",
       "    <tr>\n",
       "      <th>4</th>\n",
       "      <td>31/01/2019</td>\n",
       "      <td>3O</td>\n",
       "      <td>INTERESES</td>\n",
       "      <td>0.00</td>\n",
       "      <td>0.08</td>\n",
       "      <td>51.21</td>\n",
       "    </tr>\n",
       "  </tbody>\n",
       "</table>\n",
       "</div>"
      ],
      "text/plain": [
       "         Date Code                  Description  Debits  Credits  Balance\n",
       "0  20/01/2019   CP              GROCERY STORE 1    1.39     0.00    13.61\n",
       "1  20/01/2019   CP              GROCERY STORE 1    3.16     0.00    10.45\n",
       "2  24/01/2019   CP                LOS PALETEROS    9.32     0.00     1.13\n",
       "3  24/01/2019   MC  TFT DE Gutierrez_Arcia_Andr    0.00    50.00    51.13\n",
       "4  31/01/2019   3O                    INTERESES    0.00     0.08    51.21"
      ]
     },
     "execution_count": 17,
     "metadata": {},
     "output_type": "execute_result"
    }
   ],
   "source": [
    "my_bank.head()"
   ]
  },
  {
   "cell_type": "code",
   "execution_count": 18,
   "metadata": {},
   "outputs": [
    {
     "data": {
      "text/plain": [
       "(433, 6)"
      ]
     },
     "execution_count": 18,
     "metadata": {},
     "output_type": "execute_result"
    }
   ],
   "source": [
    "my_bank.shape"
   ]
  },
  {
   "cell_type": "code",
   "execution_count": 19,
   "metadata": {},
   "outputs": [
    {
     "data": {
      "text/plain": [
       "UBER   *TRIP             800-5          53\n",
       "UBER TRIP HELP.UBER.COM      .          50\n",
       "AM PM LA AURORA HEREDIA                 14\n",
       "RETIRO ATM 353714          HER          14\n",
       "GROCERY STORE 1                         13\n",
       "SODA BUENISIMO                          13\n",
       "PRF DEBITO NORMAL 474581221635          11\n",
       "RETIRO ATM 397225          HER          10\n",
       "INTERESES                                9\n",
       "WALMART TIBAS          DIRECTO           8\n",
       "EXTREME TECH                             8\n",
       "MAS X MENOS TIBAS      DIRECTO           8\n",
       "TEF A : 924924525                        6\n",
       "CLINICA ASEMBIS HEREDIA                  6\n",
       "TEF DE: 941148827                        6\n",
       "TEF A : 938555331                        6\n",
       "UBR* PENDING.UBER.COM    800-5           5\n",
       "RETIRO ATM 397225          SJO           5\n",
       "SUPER VIQUEZ             SANTA           5\n",
       "UBER   *EATS             800-5           5\n",
       "WALMART  HEREDIA DIRECTO                 4\n",
       "INVERSIONES BETANIA JMC                  4\n",
       "RED LOGISTIC INTERNATIONAALAJU           4\n",
       "CINEPOLIS LINCOLN                        4\n",
       "TFT-SINPE A: 814000-11**-****-638975     3\n",
       "PLATZI BASIC (MONTHLY)   HTTPS           3\n",
       "UBER EATS HELP.UBER.COM      .           3\n",
       "MAS X MENOS HEREDIA    DIRECTO           3\n",
       "FISCHEL TIBAS S05                        3\n",
       "COMISION TFT-SINPE A: 81400011           3\n",
       "                                        ..\n",
       "TIOS COFFE BAR                           1\n",
       "FARMACIA SERFA           HERED           1\n",
       "POPS HEREDIA                             1\n",
       "Spotify P0AF12C98E       S               1\n",
       "TEF DE:MILTON CARDENAS NAJERA            1\n",
       "THE CREW                                 1\n",
       "AMZN Mktp US*MA0MB3MF1   A   .           1\n",
       "TACO BELL PARQUE DE DIVERSIONE           1\n",
       "LA TORTILLERIA HEREDIA                   1\n",
       "TEF DE:ISABEL GUTIERREZ ARCIA            1\n",
       "UBER   *TRIP X3YO6       800-5           1\n",
       "UBER   *TRIP LSWFB       800-5           1\n",
       "ESENCIA MERCADITO                        1\n",
       "WALMART CIUDAD QUESADA DIRECTO           1\n",
       "Spotify P0A79A17C7       S               1\n",
       "COOPEMONTECILLOS                         1\n",
       "ANTOJITOS MEXICANOS MARIA BONI           1\n",
       "UBER   *TRIP 2NWRV       800-5           1\n",
       "UBER   *TRIP VBISP       800-5           1\n",
       "AMZN Mktp US*MO1IR7690   A   .           1\n",
       "ESTACION DE SERVICIOS COOAlaju           1\n",
       "UBER   *TRIP TK3TX       800-5           1\n",
       "RECREO VERDE                             1\n",
       "CALZADO XINIA                            1\n",
       "TEF A : 934820192                        1\n",
       "OLIVA PIZZERIA CORONADO                  1\n",
       "AMZN Mktp US*143Y40AB3   A   .           1\n",
       "FARMACIA SUCRE HEREDIA                   1\n",
       "FARMACIA SANTA LUCIA LOS ANGEL           1\n",
       "SUBWAY PLAZA REAL ALAJUELA               1\n",
       "Name: Description, Length: 157, dtype: int64"
      ]
     },
     "execution_count": 19,
     "metadata": {},
     "output_type": "execute_result"
    }
   ],
   "source": [
    "my_bank['Description'].value_counts()#.sort_index(ascending=True)"
   ]
  },
  {
   "cell_type": "code",
   "execution_count": 20,
   "metadata": {},
   "outputs": [],
   "source": [
    "my_bank['Date']= pd.to_datetime(my_bank['Date']) "
   ]
  },
  {
   "cell_type": "markdown",
   "metadata": {},
   "source": [
    "# How much I spend in Uber?"
   ]
  },
  {
   "cell_type": "code",
   "execution_count": 21,
   "metadata": {},
   "outputs": [
    {
     "data": {
      "text/html": [
       "<div>\n",
       "<style scoped>\n",
       "    .dataframe tbody tr th:only-of-type {\n",
       "        vertical-align: middle;\n",
       "    }\n",
       "\n",
       "    .dataframe tbody tr th {\n",
       "        vertical-align: top;\n",
       "    }\n",
       "\n",
       "    .dataframe thead th {\n",
       "        text-align: right;\n",
       "    }\n",
       "</style>\n",
       "<table border=\"1\" class=\"dataframe\">\n",
       "  <thead>\n",
       "    <tr style=\"text-align: right;\">\n",
       "      <th></th>\n",
       "      <th>Date</th>\n",
       "      <th>Code</th>\n",
       "      <th>Description</th>\n",
       "      <th>Debits</th>\n",
       "      <th>Credits</th>\n",
       "      <th>Balance</th>\n",
       "    </tr>\n",
       "  </thead>\n",
       "  <tbody>\n",
       "    <tr>\n",
       "      <th>8</th>\n",
       "      <td>2019-03-02</td>\n",
       "      <td>CP</td>\n",
       "      <td>UBER TRIP BWEE5 HELP.UBER    .</td>\n",
       "      <td>2.98</td>\n",
       "      <td>0.0</td>\n",
       "      <td>32.41</td>\n",
       "    </tr>\n",
       "    <tr>\n",
       "      <th>19</th>\n",
       "      <td>2019-10-02</td>\n",
       "      <td>CP</td>\n",
       "      <td>UBER   *TRIP HKWQH       800-5</td>\n",
       "      <td>4.63</td>\n",
       "      <td>0.0</td>\n",
       "      <td>652.21</td>\n",
       "    </tr>\n",
       "    <tr>\n",
       "      <th>20</th>\n",
       "      <td>2019-10-02</td>\n",
       "      <td>CP</td>\n",
       "      <td>UBER   *TRIP LSWFB       800-5</td>\n",
       "      <td>4.82</td>\n",
       "      <td>0.0</td>\n",
       "      <td>647.39</td>\n",
       "    </tr>\n",
       "    <tr>\n",
       "      <th>23</th>\n",
       "      <td>2019-02-13</td>\n",
       "      <td>CP</td>\n",
       "      <td>UBER   *TRIP J6BNH       800-5</td>\n",
       "      <td>3.22</td>\n",
       "      <td>0.0</td>\n",
       "      <td>623.37</td>\n",
       "    </tr>\n",
       "    <tr>\n",
       "      <th>27</th>\n",
       "      <td>2019-02-18</td>\n",
       "      <td>CP</td>\n",
       "      <td>UBER   *TRIP TZT3Y       800-5</td>\n",
       "      <td>5.38</td>\n",
       "      <td>0.0</td>\n",
       "      <td>555.87</td>\n",
       "    </tr>\n",
       "  </tbody>\n",
       "</table>\n",
       "</div>"
      ],
      "text/plain": [
       "         Date Code                     Description  Debits  Credits  Balance\n",
       "8  2019-03-02   CP  UBER TRIP BWEE5 HELP.UBER    .    2.98      0.0    32.41\n",
       "19 2019-10-02   CP  UBER   *TRIP HKWQH       800-5    4.63      0.0   652.21\n",
       "20 2019-10-02   CP  UBER   *TRIP LSWFB       800-5    4.82      0.0   647.39\n",
       "23 2019-02-13   CP  UBER   *TRIP J6BNH       800-5    3.22      0.0   623.37\n",
       "27 2019-02-18   CP  UBER   *TRIP TZT3Y       800-5    5.38      0.0   555.87"
      ]
     },
     "execution_count": 21,
     "metadata": {},
     "output_type": "execute_result"
    }
   ],
   "source": [
    "uber = my_bank[my_bank['Description'].str.contains(pat = 'UBER', regex = True)]\n",
    "uber.head()"
   ]
  },
  {
   "cell_type": "markdown",
   "metadata": {},
   "source": [
    "## Sum of total spent"
   ]
  },
  {
   "cell_type": "code",
   "execution_count": 22,
   "metadata": {},
   "outputs": [
    {
     "data": {
      "text/plain": [
       "627.59"
      ]
     },
     "execution_count": 22,
     "metadata": {},
     "output_type": "execute_result"
    }
   ],
   "source": [
    "uber['Debits'].sum()"
   ]
  },
  {
   "cell_type": "markdown",
   "metadata": {},
   "source": [
    "## Times Uber asked"
   ]
  },
  {
   "cell_type": "code",
   "execution_count": 23,
   "metadata": {},
   "outputs": [
    {
     "data": {
      "text/plain": [
       "125"
      ]
     },
     "execution_count": 23,
     "metadata": {},
     "output_type": "execute_result"
    }
   ],
   "source": [
    "uber.shape[0]"
   ]
  },
  {
   "cell_type": "markdown",
   "metadata": {},
   "source": [
    "## Data types"
   ]
  },
  {
   "cell_type": "code",
   "execution_count": 24,
   "metadata": {},
   "outputs": [
    {
     "data": {
      "text/plain": [
       "Date           datetime64[ns]\n",
       "Code                   object\n",
       "Description            object\n",
       "Debits                float64\n",
       "Credits               float64\n",
       "Balance               float64\n",
       "dtype: object"
      ]
     },
     "execution_count": 24,
     "metadata": {},
     "output_type": "execute_result"
    }
   ],
   "source": [
    "uber.dtypes"
   ]
  },
  {
   "cell_type": "code",
   "execution_count": 25,
   "metadata": {},
   "outputs": [],
   "source": [
    "uber.sort_values(by=['Date'],ascending=True);"
   ]
  },
  {
   "cell_type": "markdown",
   "metadata": {},
   "source": [
    "## Get the start date and end date"
   ]
  },
  {
   "cell_type": "code",
   "execution_count": 26,
   "metadata": {},
   "outputs": [
    {
     "data": {
      "text/plain": [
       "Timestamp('2019-01-07 00:00:00')"
      ]
     },
     "metadata": {},
     "output_type": "display_data"
    },
    {
     "data": {
      "text/plain": [
       "Timestamp('2019-12-10 00:00:00')"
      ]
     },
     "metadata": {},
     "output_type": "display_data"
    }
   ],
   "source": [
    "uber.min();\n",
    "start = uber['Date'].min()\n",
    "end = uber['Date'].max()\n",
    "display(start)\n",
    "display(end)"
   ]
  },
  {
   "cell_type": "code",
   "execution_count": 27,
   "metadata": {},
   "outputs": [
    {
     "data": {
      "text/plain": [
       "Timedelta('337 days 00:00:00')"
      ]
     },
     "execution_count": 27,
     "metadata": {},
     "output_type": "execute_result"
    }
   ],
   "source": [
    "end - start"
   ]
  },
  {
   "cell_type": "markdown",
   "metadata": {},
   "source": [
    "## What was the date for max?"
   ]
  },
  {
   "cell_type": "code",
   "execution_count": 28,
   "metadata": {},
   "outputs": [
    {
     "data": {
      "text/plain": [
       "269"
      ]
     },
     "execution_count": 28,
     "metadata": {},
     "output_type": "execute_result"
    }
   ],
   "source": [
    "uber['Debits'].idxmax()"
   ]
  },
  {
   "cell_type": "code",
   "execution_count": 29,
   "metadata": {},
   "outputs": [
    {
     "data": {
      "text/plain": [
       "'Monday'"
      ]
     },
     "execution_count": 29,
     "metadata": {},
     "output_type": "execute_result"
    }
   ],
   "source": [
    "uber.loc[269].Date.day_name() "
   ]
  },
  {
   "cell_type": "code",
   "execution_count": 30,
   "metadata": {},
   "outputs": [
    {
     "data": {
      "text/html": [
       "<div>\n",
       "<style scoped>\n",
       "    .dataframe tbody tr th:only-of-type {\n",
       "        vertical-align: middle;\n",
       "    }\n",
       "\n",
       "    .dataframe tbody tr th {\n",
       "        vertical-align: top;\n",
       "    }\n",
       "\n",
       "    .dataframe thead th {\n",
       "        text-align: right;\n",
       "    }\n",
       "</style>\n",
       "<table border=\"1\" class=\"dataframe\">\n",
       "  <thead>\n",
       "    <tr style=\"text-align: right;\">\n",
       "      <th></th>\n",
       "      <th>Date</th>\n",
       "      <th>Code</th>\n",
       "      <th>Description</th>\n",
       "      <th>Debits</th>\n",
       "      <th>Credits</th>\n",
       "      <th>Balance</th>\n",
       "    </tr>\n",
       "  </thead>\n",
       "  <tbody>\n",
       "    <tr>\n",
       "      <th>268</th>\n",
       "      <td>2019-04-08</td>\n",
       "      <td>CP</td>\n",
       "      <td>UBER TRIP HELP.UBER.COM      .</td>\n",
       "      <td>8.56</td>\n",
       "      <td>0.0</td>\n",
       "      <td>165.34</td>\n",
       "    </tr>\n",
       "    <tr>\n",
       "      <th>269</th>\n",
       "      <td>2019-04-08</td>\n",
       "      <td>CP</td>\n",
       "      <td>UBER   *EATS             800-5</td>\n",
       "      <td>29.65</td>\n",
       "      <td>0.0</td>\n",
       "      <td>135.69</td>\n",
       "    </tr>\n",
       "    <tr>\n",
       "      <th>270</th>\n",
       "      <td>2019-04-08</td>\n",
       "      <td>CP</td>\n",
       "      <td>UBER   *TRIP             800-5</td>\n",
       "      <td>2.92</td>\n",
       "      <td>0.0</td>\n",
       "      <td>132.77</td>\n",
       "    </tr>\n",
       "  </tbody>\n",
       "</table>\n",
       "</div>"
      ],
      "text/plain": [
       "          Date Code                     Description  Debits  Credits  Balance\n",
       "268 2019-04-08   CP  UBER TRIP HELP.UBER.COM      .    8.56      0.0   165.34\n",
       "269 2019-04-08   CP  UBER   *EATS             800-5   29.65      0.0   135.69\n",
       "270 2019-04-08   CP  UBER   *TRIP             800-5    2.92      0.0   132.77"
      ]
     },
     "execution_count": 30,
     "metadata": {},
     "output_type": "execute_result"
    }
   ],
   "source": [
    "uber[uber['Date'] == uber.loc[269].Date]"
   ]
  },
  {
   "cell_type": "markdown",
   "metadata": {},
   "source": [
    "## Number of Uber rides by day"
   ]
  },
  {
   "cell_type": "code",
   "execution_count": 31,
   "metadata": {},
   "outputs": [
    {
     "data": {
      "text/plain": [
       "Sunday       27\n",
       "Saturday     21\n",
       "Monday       20\n",
       "Wednesday    17\n",
       "Tuesday      14\n",
       "Thursday     14\n",
       "Friday       12\n",
       "dtype: int64"
      ]
     },
     "execution_count": 31,
     "metadata": {},
     "output_type": "execute_result"
    }
   ],
   "source": [
    "uber.apply(lambda row: row['Date'].day_name() , axis=1).value_counts()"
   ]
  },
  {
   "cell_type": "markdown",
   "metadata": {},
   "source": [
    "# Other External files"
   ]
  },
  {
   "cell_type": "code",
   "execution_count": 42,
   "metadata": {},
   "outputs": [],
   "source": [
    "hidro = pd.read_excel(\"SVBTESD.xlsx\")\n",
    "hidro = hidro[:200]"
   ]
  },
  {
   "cell_type": "code",
   "execution_count": 43,
   "metadata": {},
   "outputs": [
    {
     "data": {
      "text/html": [
       "<div>\n",
       "<style scoped>\n",
       "    .dataframe tbody tr th:only-of-type {\n",
       "        vertical-align: middle;\n",
       "    }\n",
       "\n",
       "    .dataframe tbody tr th {\n",
       "        vertical-align: top;\n",
       "    }\n",
       "\n",
       "    .dataframe thead th {\n",
       "        text-align: right;\n",
       "    }\n",
       "</style>\n",
       "<table border=\"1\" class=\"dataframe\">\n",
       "  <thead>\n",
       "    <tr style=\"text-align: right;\">\n",
       "      <th></th>\n",
       "      <th>Id</th>\n",
       "      <th>SVBTESD_ESAS_TEMP_PIDM</th>\n",
       "      <th>SVBTESD_TERM_CODE</th>\n",
       "      <th>SVBTESD_CRN</th>\n",
       "      <th>SVBTESD_FACULTY_PIDM</th>\n",
       "      <th>SVBTESD_TSSC_CODE</th>\n",
       "      <th>SVBTESD_QCOD_CODE</th>\n",
       "      <th>SVBTESD_SDEF_SEQ_NUM</th>\n",
       "      <th>SVBTESD_SDEF_WEIGHT</th>\n",
       "      <th>SVBTESD_SDEF_TOTAL_SCORE</th>\n",
       "      <th>...</th>\n",
       "      <th>SVBTESD_ACOD_CODE</th>\n",
       "      <th>SVBTESD_PVAC_SEQ_NUM</th>\n",
       "      <th>SVBTESD_PVAC_QPOINTS</th>\n",
       "      <th>SVBTESD_OPEN_ANSWER</th>\n",
       "      <th>SVBTESD_ACTIVITY_DATE</th>\n",
       "      <th>SVBTESD_SURROGATE_ID</th>\n",
       "      <th>SVBTESD_VERSION</th>\n",
       "      <th>SVBTESD_USER_ID</th>\n",
       "      <th>SVBTESD_DATA_ORIGIN</th>\n",
       "      <th>SVBTESD_VPDI_CODE</th>\n",
       "    </tr>\n",
       "  </thead>\n",
       "  <tbody>\n",
       "    <tr>\n",
       "      <th>0</th>\n",
       "      <td>1</td>\n",
       "      <td>1640989</td>\n",
       "      <td>201895</td>\n",
       "      <td>90001</td>\n",
       "      <td>35904</td>\n",
       "      <td>EDD_3RCI</td>\n",
       "      <td>AVE01</td>\n",
       "      <td>5</td>\n",
       "      <td>0.0</td>\n",
       "      <td>0</td>\n",
       "      <td>...</td>\n",
       "      <td>ESCASINO</td>\n",
       "      <td>1</td>\n",
       "      <td>NaN</td>\n",
       "      <td>NaN</td>\n",
       "      <td>2019-01-09 19:48:10</td>\n",
       "      <td>NaN</td>\n",
       "      <td>NaN</td>\n",
       "      <td>NaN</td>\n",
       "      <td>NaN</td>\n",
       "      <td>NaN</td>\n",
       "    </tr>\n",
       "    <tr>\n",
       "      <th>1</th>\n",
       "      <td>2</td>\n",
       "      <td>1640989</td>\n",
       "      <td>201895</td>\n",
       "      <td>90001</td>\n",
       "      <td>35904</td>\n",
       "      <td>EDD_3RCI</td>\n",
       "      <td>AVE02</td>\n",
       "      <td>6</td>\n",
       "      <td>0.0</td>\n",
       "      <td>0</td>\n",
       "      <td>...</td>\n",
       "      <td>SIEM_NUN</td>\n",
       "      <td>1</td>\n",
       "      <td>5.0</td>\n",
       "      <td>NaN</td>\n",
       "      <td>2019-01-09 19:48:10</td>\n",
       "      <td>NaN</td>\n",
       "      <td>NaN</td>\n",
       "      <td>NaN</td>\n",
       "      <td>NaN</td>\n",
       "      <td>NaN</td>\n",
       "    </tr>\n",
       "    <tr>\n",
       "      <th>2</th>\n",
       "      <td>3</td>\n",
       "      <td>1640989</td>\n",
       "      <td>201895</td>\n",
       "      <td>90001</td>\n",
       "      <td>35904</td>\n",
       "      <td>EDD_3RCI</td>\n",
       "      <td>AVE03</td>\n",
       "      <td>7</td>\n",
       "      <td>0.0</td>\n",
       "      <td>0</td>\n",
       "      <td>...</td>\n",
       "      <td>SIEM_NUN</td>\n",
       "      <td>2</td>\n",
       "      <td>4.0</td>\n",
       "      <td>NaN</td>\n",
       "      <td>2019-01-09 19:48:10</td>\n",
       "      <td>NaN</td>\n",
       "      <td>NaN</td>\n",
       "      <td>NaN</td>\n",
       "      <td>NaN</td>\n",
       "      <td>NaN</td>\n",
       "    </tr>\n",
       "    <tr>\n",
       "      <th>3</th>\n",
       "      <td>4</td>\n",
       "      <td>1640989</td>\n",
       "      <td>201895</td>\n",
       "      <td>90001</td>\n",
       "      <td>35904</td>\n",
       "      <td>EDD_3RCI</td>\n",
       "      <td>AVE04</td>\n",
       "      <td>8</td>\n",
       "      <td>0.0</td>\n",
       "      <td>0</td>\n",
       "      <td>...</td>\n",
       "      <td>SIEM_NUN</td>\n",
       "      <td>3</td>\n",
       "      <td>3.0</td>\n",
       "      <td>NaN</td>\n",
       "      <td>2019-01-09 19:48:10</td>\n",
       "      <td>NaN</td>\n",
       "      <td>NaN</td>\n",
       "      <td>NaN</td>\n",
       "      <td>NaN</td>\n",
       "      <td>NaN</td>\n",
       "    </tr>\n",
       "    <tr>\n",
       "      <th>4</th>\n",
       "      <td>5</td>\n",
       "      <td>1640989</td>\n",
       "      <td>201895</td>\n",
       "      <td>90001</td>\n",
       "      <td>35904</td>\n",
       "      <td>EDD_3RCI</td>\n",
       "      <td>AVE05</td>\n",
       "      <td>9</td>\n",
       "      <td>0.0</td>\n",
       "      <td>0</td>\n",
       "      <td>...</td>\n",
       "      <td>SIEM_NUN</td>\n",
       "      <td>1</td>\n",
       "      <td>5.0</td>\n",
       "      <td>NaN</td>\n",
       "      <td>2019-01-09 19:48:10</td>\n",
       "      <td>NaN</td>\n",
       "      <td>NaN</td>\n",
       "      <td>NaN</td>\n",
       "      <td>NaN</td>\n",
       "      <td>NaN</td>\n",
       "    </tr>\n",
       "  </tbody>\n",
       "</table>\n",
       "<p>5 rows × 22 columns</p>\n",
       "</div>"
      ],
      "text/plain": [
       "   Id  SVBTESD_ESAS_TEMP_PIDM  SVBTESD_TERM_CODE  SVBTESD_CRN  \\\n",
       "0   1                 1640989             201895        90001   \n",
       "1   2                 1640989             201895        90001   \n",
       "2   3                 1640989             201895        90001   \n",
       "3   4                 1640989             201895        90001   \n",
       "4   5                 1640989             201895        90001   \n",
       "\n",
       "   SVBTESD_FACULTY_PIDM SVBTESD_TSSC_CODE SVBTESD_QCOD_CODE  \\\n",
       "0                 35904          EDD_3RCI             AVE01   \n",
       "1                 35904          EDD_3RCI             AVE02   \n",
       "2                 35904          EDD_3RCI             AVE03   \n",
       "3                 35904          EDD_3RCI             AVE04   \n",
       "4                 35904          EDD_3RCI             AVE05   \n",
       "\n",
       "   SVBTESD_SDEF_SEQ_NUM  SVBTESD_SDEF_WEIGHT  SVBTESD_SDEF_TOTAL_SCORE  ...  \\\n",
       "0                     5                  0.0                         0  ...   \n",
       "1                     6                  0.0                         0  ...   \n",
       "2                     7                  0.0                         0  ...   \n",
       "3                     8                  0.0                         0  ...   \n",
       "4                     9                  0.0                         0  ...   \n",
       "\n",
       "  SVBTESD_ACOD_CODE  SVBTESD_PVAC_SEQ_NUM SVBTESD_PVAC_QPOINTS  \\\n",
       "0          ESCASINO                     1                  NaN   \n",
       "1          SIEM_NUN                     1                  5.0   \n",
       "2          SIEM_NUN                     2                  4.0   \n",
       "3          SIEM_NUN                     3                  3.0   \n",
       "4          SIEM_NUN                     1                  5.0   \n",
       "\n",
       "   SVBTESD_OPEN_ANSWER  SVBTESD_ACTIVITY_DATE SVBTESD_SURROGATE_ID  \\\n",
       "0                  NaN    2019-01-09 19:48:10                  NaN   \n",
       "1                  NaN    2019-01-09 19:48:10                  NaN   \n",
       "2                  NaN    2019-01-09 19:48:10                  NaN   \n",
       "3                  NaN    2019-01-09 19:48:10                  NaN   \n",
       "4                  NaN    2019-01-09 19:48:10                  NaN   \n",
       "\n",
       "  SVBTESD_VERSION  SVBTESD_USER_ID  SVBTESD_DATA_ORIGIN  SVBTESD_VPDI_CODE  \n",
       "0             NaN              NaN                  NaN                NaN  \n",
       "1             NaN              NaN                  NaN                NaN  \n",
       "2             NaN              NaN                  NaN                NaN  \n",
       "3             NaN              NaN                  NaN                NaN  \n",
       "4             NaN              NaN                  NaN                NaN  \n",
       "\n",
       "[5 rows x 22 columns]"
      ]
     },
     "execution_count": 43,
     "metadata": {},
     "output_type": "execute_result"
    }
   ],
   "source": [
    "hidro.head()"
   ]
  },
  {
   "cell_type": "code",
   "execution_count": 47,
   "metadata": {},
   "outputs": [
    {
     "data": {
      "text/html": [
       "<div>\n",
       "<style scoped>\n",
       "    .dataframe tbody tr th:only-of-type {\n",
       "        vertical-align: middle;\n",
       "    }\n",
       "\n",
       "    .dataframe tbody tr th {\n",
       "        vertical-align: top;\n",
       "    }\n",
       "\n",
       "    .dataframe thead th {\n",
       "        text-align: right;\n",
       "    }\n",
       "</style>\n",
       "<table border=\"1\" class=\"dataframe\">\n",
       "  <thead>\n",
       "    <tr style=\"text-align: right;\">\n",
       "      <th>SVBTESD_QCOD_CODE</th>\n",
       "      <th>AVE01</th>\n",
       "      <th>AVE02</th>\n",
       "      <th>AVE03</th>\n",
       "      <th>AVE04</th>\n",
       "      <th>AVE05</th>\n",
       "      <th>AVE06</th>\n",
       "      <th>AVE08</th>\n",
       "      <th>EGL09</th>\n",
       "      <th>EGL10</th>\n",
       "      <th>EGL11</th>\n",
       "      <th>...</th>\n",
       "      <th>GN_IN</th>\n",
       "      <th>IED03</th>\n",
       "      <th>INF01</th>\n",
       "      <th>INF04</th>\n",
       "      <th>INF05</th>\n",
       "      <th>JUSTF</th>\n",
       "      <th>TCI35</th>\n",
       "      <th>TCI36</th>\n",
       "      <th>TCI37</th>\n",
       "      <th>TCI38</th>\n",
       "    </tr>\n",
       "    <tr>\n",
       "      <th>SVBTESD_ESAS_TEMP_PIDM</th>\n",
       "      <th></th>\n",
       "      <th></th>\n",
       "      <th></th>\n",
       "      <th></th>\n",
       "      <th></th>\n",
       "      <th></th>\n",
       "      <th></th>\n",
       "      <th></th>\n",
       "      <th></th>\n",
       "      <th></th>\n",
       "      <th></th>\n",
       "      <th></th>\n",
       "      <th></th>\n",
       "      <th></th>\n",
       "      <th></th>\n",
       "      <th></th>\n",
       "      <th></th>\n",
       "      <th></th>\n",
       "      <th></th>\n",
       "      <th></th>\n",
       "      <th></th>\n",
       "    </tr>\n",
       "  </thead>\n",
       "  <tbody>\n",
       "    <tr>\n",
       "      <th>1640989</th>\n",
       "      <td>NaN</td>\n",
       "      <td>5.0</td>\n",
       "      <td>4.0</td>\n",
       "      <td>3.0</td>\n",
       "      <td>5.0</td>\n",
       "      <td>5.0</td>\n",
       "      <td>4.0</td>\n",
       "      <td>NaN</td>\n",
       "      <td>NaN</td>\n",
       "      <td>5.0</td>\n",
       "      <td>...</td>\n",
       "      <td>1.0</td>\n",
       "      <td>NaN</td>\n",
       "      <td>NaN</td>\n",
       "      <td>NaN</td>\n",
       "      <td>NaN</td>\n",
       "      <td>NaN</td>\n",
       "      <td>5.0</td>\n",
       "      <td>5.0</td>\n",
       "      <td>5.0</td>\n",
       "      <td>5.0</td>\n",
       "    </tr>\n",
       "    <tr>\n",
       "      <th>1640990</th>\n",
       "      <td>NaN</td>\n",
       "      <td>4.0</td>\n",
       "      <td>5.0</td>\n",
       "      <td>5.0</td>\n",
       "      <td>5.0</td>\n",
       "      <td>5.0</td>\n",
       "      <td>5.0</td>\n",
       "      <td>NaN</td>\n",
       "      <td>NaN</td>\n",
       "      <td>5.0</td>\n",
       "      <td>...</td>\n",
       "      <td>1.0</td>\n",
       "      <td>NaN</td>\n",
       "      <td>NaN</td>\n",
       "      <td>NaN</td>\n",
       "      <td>NaN</td>\n",
       "      <td>NaN</td>\n",
       "      <td>5.0</td>\n",
       "      <td>5.0</td>\n",
       "      <td>5.0</td>\n",
       "      <td>5.0</td>\n",
       "    </tr>\n",
       "    <tr>\n",
       "      <th>1640991</th>\n",
       "      <td>NaN</td>\n",
       "      <td>5.0</td>\n",
       "      <td>5.0</td>\n",
       "      <td>5.0</td>\n",
       "      <td>5.0</td>\n",
       "      <td>5.0</td>\n",
       "      <td>5.0</td>\n",
       "      <td>NaN</td>\n",
       "      <td>NaN</td>\n",
       "      <td>5.0</td>\n",
       "      <td>...</td>\n",
       "      <td>1.0</td>\n",
       "      <td>NaN</td>\n",
       "      <td>NaN</td>\n",
       "      <td>NaN</td>\n",
       "      <td>NaN</td>\n",
       "      <td>NaN</td>\n",
       "      <td>5.0</td>\n",
       "      <td>5.0</td>\n",
       "      <td>5.0</td>\n",
       "      <td>5.0</td>\n",
       "    </tr>\n",
       "    <tr>\n",
       "      <th>1640993</th>\n",
       "      <td>NaN</td>\n",
       "      <td>5.0</td>\n",
       "      <td>5.0</td>\n",
       "      <td>5.0</td>\n",
       "      <td>5.0</td>\n",
       "      <td>5.0</td>\n",
       "      <td>3.0</td>\n",
       "      <td>NaN</td>\n",
       "      <td>NaN</td>\n",
       "      <td>5.0</td>\n",
       "      <td>...</td>\n",
       "      <td>1.0</td>\n",
       "      <td>NaN</td>\n",
       "      <td>NaN</td>\n",
       "      <td>NaN</td>\n",
       "      <td>NaN</td>\n",
       "      <td>NaN</td>\n",
       "      <td>3.0</td>\n",
       "      <td>5.0</td>\n",
       "      <td>3.0</td>\n",
       "      <td>5.0</td>\n",
       "    </tr>\n",
       "    <tr>\n",
       "      <th>1640996</th>\n",
       "      <td>NaN</td>\n",
       "      <td>5.0</td>\n",
       "      <td>5.0</td>\n",
       "      <td>4.0</td>\n",
       "      <td>5.0</td>\n",
       "      <td>5.0</td>\n",
       "      <td>5.0</td>\n",
       "      <td>NaN</td>\n",
       "      <td>NaN</td>\n",
       "      <td>5.0</td>\n",
       "      <td>...</td>\n",
       "      <td>NaN</td>\n",
       "      <td>NaN</td>\n",
       "      <td>NaN</td>\n",
       "      <td>NaN</td>\n",
       "      <td>NaN</td>\n",
       "      <td>NaN</td>\n",
       "      <td>NaN</td>\n",
       "      <td>NaN</td>\n",
       "      <td>NaN</td>\n",
       "      <td>NaN</td>\n",
       "    </tr>\n",
       "  </tbody>\n",
       "</table>\n",
       "<p>5 rows × 45 columns</p>\n",
       "</div>"
      ],
      "text/plain": [
       "SVBTESD_QCOD_CODE       AVE01  AVE02  AVE03  AVE04  AVE05  AVE06  AVE08  \\\n",
       "SVBTESD_ESAS_TEMP_PIDM                                                    \n",
       "1640989                   NaN    5.0    4.0    3.0    5.0    5.0    4.0   \n",
       "1640990                   NaN    4.0    5.0    5.0    5.0    5.0    5.0   \n",
       "1640991                   NaN    5.0    5.0    5.0    5.0    5.0    5.0   \n",
       "1640993                   NaN    5.0    5.0    5.0    5.0    5.0    3.0   \n",
       "1640996                   NaN    5.0    5.0    4.0    5.0    5.0    5.0   \n",
       "\n",
       "SVBTESD_QCOD_CODE       EGL09  EGL10  EGL11  ...  GN_IN  IED03  INF01  INF04  \\\n",
       "SVBTESD_ESAS_TEMP_PIDM                       ...                               \n",
       "1640989                   NaN    NaN    5.0  ...    1.0    NaN    NaN    NaN   \n",
       "1640990                   NaN    NaN    5.0  ...    1.0    NaN    NaN    NaN   \n",
       "1640991                   NaN    NaN    5.0  ...    1.0    NaN    NaN    NaN   \n",
       "1640993                   NaN    NaN    5.0  ...    1.0    NaN    NaN    NaN   \n",
       "1640996                   NaN    NaN    5.0  ...    NaN    NaN    NaN    NaN   \n",
       "\n",
       "SVBTESD_QCOD_CODE       INF05  JUSTF  TCI35  TCI36  TCI37  TCI38  \n",
       "SVBTESD_ESAS_TEMP_PIDM                                            \n",
       "1640989                   NaN    NaN    5.0    5.0    5.0    5.0  \n",
       "1640990                   NaN    NaN    5.0    5.0    5.0    5.0  \n",
       "1640991                   NaN    NaN    5.0    5.0    5.0    5.0  \n",
       "1640993                   NaN    NaN    3.0    5.0    3.0    5.0  \n",
       "1640996                   NaN    NaN    NaN    NaN    NaN    NaN  \n",
       "\n",
       "[5 rows x 45 columns]"
      ]
     },
     "execution_count": 47,
     "metadata": {},
     "output_type": "execute_result"
    }
   ],
   "source": [
    "transpose = hidro.pivot(index='SVBTESD_ESAS_TEMP_PIDM', columns='SVBTESD_QCOD_CODE', values='SVBTESD_PVAC_QPOINTS')\n",
    "transpose.head()"
   ]
  },
  {
   "cell_type": "code",
   "execution_count": 48,
   "metadata": {},
   "outputs": [],
   "source": [
    "transpose.to_excel(\"output.xlsx\")"
   ]
  },
  {
   "cell_type": "code",
   "execution_count": null,
   "metadata": {},
   "outputs": [],
   "source": []
  }
 ],
 "metadata": {
  "kernelspec": {
   "display_name": "Python 3",
   "language": "python",
   "name": "python3"
  },
  "language_info": {
   "codemirror_mode": {
    "name": "ipython",
    "version": 3
   },
   "file_extension": ".py",
   "mimetype": "text/x-python",
   "name": "python",
   "nbconvert_exporter": "python",
   "pygments_lexer": "ipython3",
   "version": "3.7.1"
  }
 },
 "nbformat": 4,
 "nbformat_minor": 2
}
